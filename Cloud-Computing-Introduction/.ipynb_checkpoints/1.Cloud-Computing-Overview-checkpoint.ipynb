{
 "cells": [
  {
   "cell_type": "markdown",
   "metadata": {},
   "source": [
    "# Cloud Computing Overview\n",
    "\n",
    "1. Introduction to Cloud Computing\n",
    "    1. [Overview of Computing](#Overview)\n",
    "    2. Cloud Computing (NIST Model)\n",
    "    3. Properties, Characteristics & Disadvantages\n",
    "    4. Role of Open Standards\n",
    "2. Cloud Computing Architecture\n",
    "    1. Cloud computing stack\n",
    "    2. Service Models (XaaS)\n",
    "        1. Infrastructure as a Service (IaaS)\n",
    "        2. Platform as a Service (PaaS)\n",
    "        3. Software as a Service (SaaS)\n",
    "    3. Deployment Models\n",
    "3. Service Management in Cloud Computing\n",
    "    1. Service Level Agreements (SLAs)\n",
    "    2. Cloud Economics\n",
    "4. [Resource Management in Cloud Computing](#Resource_Management_in_Cloud_Computing)\n",
    "5. [Data Management in Cloud Computing](#Data_Management_in_Cloud_Computing)\n",
    "    1. Looking at Data, Scalability & Cloud Services\n",
    "    2. Database & Data Stores in Cloud\n",
    "    3. Large Scale Data Processing\n",
    "6. Cloud Security\n",
    "    1. Infrastructure Security\n",
    "    2. Data security and Storage\n",
    "    3. Identity and Access Management\n",
    "    4. Access Control, Trust, Reputation, Risk\n",
    "7. Case Study on Open Sourceand Commercial Clouds, Cloud Simulator\n",
    "8. Research trend in Cloud Computing, Fog Computing"
   ]
  },
  {
   "cell_type": "markdown",
   "metadata": {},
   "source": [
    "## Overview of Computing <a class='anchor' name='Overview'></a>\n",
    "\n",
    "Test"
   ]
  },
  {
   "cell_type": "markdown",
   "metadata": {},
   "source": [
    "## Resource Management in Cloud Computing <a class=\"anchor\" name='Resource_Management_in_Cloud_Computing'></a>\n",
    "\n",
    "<a id='Resource_Management_in_Cloud_Computing'>Resource Management in Cloud Computing</a>\n",
    "\n",
    "- This is more in the __***service provider end***__\n",
    "    - How the resources will be managed by service provider\n",
    "        - Example: I need many people to surf my website\n",
    "            - For which what sort of resources I need to manage the things\n",
    "        - Example: __Stationary Shop__\n",
    "            - **__How much I need to stock?__**\n",
    "                - It depends on how much my sale projection is\n",
    "            - **_Starving_** : I don't want to have a situation when I am starving for my store\n",
    "            - **_Overloading_** : Or I should not have a situation when I have full of items in Shop\n",
    "- __*Resource(s) that need to be managed for a typical Computing System*__ (irrespective of Cloud Computing or not)\n",
    "    - Processor/ CPU\n",
    "    - Memory - RAM/ HDD\n",
    "    - Network Connectivity\n",
    "    - Etc.,...\n",
    "- Optimally Managing resources is a serious challenge\n",
    "    - Any resources has a inherent cost associated with it\n",
    "    - If we need to manage huge volume of resources without utilization, then we have to incur more cost on the resources than in maintaining the resources\n",
    "    \n"
   ]
  },
  {
   "cell_type": "markdown",
   "metadata": {},
   "source": [
    "## Data Management in Cloud Computing <a class=\"anchor\" name='Data_Management_in_Cloud_Computing'></a>\n",
    "\n",
    "- Data is a very tricky thing. We need to look at\n",
    "    - How it will be __*stored*__\n",
    "        - If it is a large scare data processing, we need to look at how data management going to happen?\n",
    "            - Some data base management system is enough\n",
    "            - Or do we need Data Store Cloud Services kind of\n",
    "    - How it will be __*managed*__\n",
    "    - Scalability\n",
    "\n",
    "    - Cloud Services over the data services"
   ]
  },
  {
   "cell_type": "code",
   "execution_count": null,
   "metadata": {},
   "outputs": [],
   "source": []
  }
 ],
 "metadata": {
  "kernelspec": {
   "display_name": "Python 3",
   "language": "python",
   "name": "python3"
  },
  "language_info": {
   "name": ""
  }
 },
 "nbformat": 4,
 "nbformat_minor": 2
}
