{
 "cells": [
  {
   "cell_type": "markdown",
   "metadata": {},
   "source": [
    "# Cloud Computing\n",
    "\n",
    "- Providing *Computing* as a *Service*\n",
    "\n",
    "![Cloud_Computing](images/Cloud_Computing.jpg)"
   ]
  },
  {
   "cell_type": "markdown",
   "metadata": {},
   "source": [
    "## Essential Characteristics\n",
    "\n",
    "- __On-demand self-service__\n",
    "    - A consumer can unilaterally provision computing capabilities, such as server time and network storage, as needed automatically without requiring human interaction with each service provider\n",
    "- __Broad network access__\n",
    "    - Capabilities are available over the network and accessed through standard mechanisms that promote use by heterogeneousthin or thick client platforms\n",
    "        - E.g., Mobile Phones, Tablets, Laptops, and Worstations\n",
    "- __Resource pooling__\n",
    "    - The provider's computing resources are pooled to serve multiple consumers using a multi-tenant model, with different physical and virtual resources dynamically assigned and reassigned according to customer demand."
   ]
  },
  {
   "cell_type": "markdown",
   "metadata": {},
   "source": [
    "## Cloud Characteristics\n",
    "\n",
    "- __Measured Service__\n",
    "    - Cloud Systems automatically control and optimize resource use by leveraging a metering capability at some level of abstraction appropriate to the type of service\n",
    "        -E.g., Storage Processing, Bandwidth, and Active user Accounts\n",
    "    - Resource usage can be monitored, controlled and reported, providing transparency for both the provider and consumer for the utilized service\n",
    "- __Rapid Elasticity__\n",
    "    - Capabilities can be elastically provisioned and released, in some cases automatically, to scale rapidly outward and inward commensurate with demand. To the consumer, the capabilities available for provisioning often appear to be unlimited and can be appropriated in any qunatity at any time."
   ]
  },
  {
   "cell_type": "markdown",
   "metadata": {},
   "source": [
    "## Common Characteristics\n",
    "\n",
    "- Massive Scale\n",
    "    - Provisioning/Deprovisioning as and when required\n",
    "- Resilient Computing\n",
    "    - Ability to provide and maintain acceptable level of service in the face of faults and challenges to normal operation\n",
    "- Homogeneity\n",
    "    - Irrespective of whether actual cloud is Homogeneous or Heterogeneous, providing service in a homogeneous way\n",
    "- Geographic Distribution\n",
    "    - Normally it will be distributed geographically\n",
    "- Virtualization\n",
    "    - Eg.,\n",
    "        - Virtualize a Windows over a Linux\n",
    "        - Over the available infrastructure, virtualize several virtual machines/ virtual applications and work on it\n",
    "- Service Orientation\n",
    "    - Services in the applications, which are communicating with each other rather than data driven.\n",
    "    - Rather than a Data Orinted, it is more of a Service Oriented\n",
    "    - Eg., SOA - Service Oriented Architecture\n",
    "- Low Cost Software\n",
    "- Advanced Security\n",
    "\n",
    "![SOA](images/SOA.jpg)"
   ]
  },
  {
   "cell_type": "markdown",
   "metadata": {},
   "source": [
    "## Cloud Service Models\n",
    "\n",
    "![Cloud_Services_Models](images/Cloud_Services_Models.jpg)"
   ]
  },
  {
   "cell_type": "markdown",
   "metadata": {},
   "source": [
    "### Software a a Service (SaaS)\n",
    "\n",
    "- The capability provided to the consumer is to use the provider's applications running on a cloud infrstructure. The applications are accessible from various client devices through either a thin interface, such as a web browser (e.g., web-based email), or a program interface\n",
    "- The consumer does not manage or control the underlying cloud infrastructure including network, servers, operating systems, storage, or even individual application capabilities, with the possible exception of limited user-specific application configuration settings.\n",
    "- E.g., __*Google Spread Sheet*__"
   ]
  },
  {
   "cell_type": "markdown",
   "metadata": {},
   "source": [
    "### Cloud Infrastructure as a Service (IaaS)\n",
    "\n",
    "- The capability provided to provision processing, storage, networks, and other fundamental computing resources\n",
    "- Consumer can deplkoy and run arbitrary software\n",
    "- E.g., __*Amazon Web Services*__ and __*Flexi Scale*__"
   ]
  },
  {
   "cell_type": "markdown",
   "metadata": {},
   "source": [
    "### Platform as a Service (Paas)\n",
    "\n",
    "- It provides a platform for some development work"
   ]
  },
  {
   "cell_type": "markdown",
   "metadata": {},
   "source": [
    "## Types of Cloud (Deployment Models)"
   ]
  },
  {
   "cell_type": "markdown",
   "metadata": {},
   "source": [
    "### Private Cloud\n",
    "\n",
    "- The cloud infrastructure is operated solely for an organization\n",
    "- E.g.,\n",
    "    - IIT Kharagpur has its own private cloud named 'Megamala'\n",
    "        - Not accessible to outside people\n",
    "        - Used by faculties and research scholars inside IIT-Kharagpur\n",
    "    - Windows Server 'Hyper-V'"
   ]
  },
  {
   "cell_type": "markdown",
   "metadata": {},
   "source": [
    "### Public Cloud\n",
    "\n",
    "- The cloud infrastructure is made available to the general public\n",
    "- E.g., Google Doc, Google Spreadsheet"
   ]
  },
  {
   "cell_type": "markdown",
   "metadata": {},
   "source": [
    "### Community Cloud\n",
    "\n",
    "- The cloud infrastructure is shared by several organizations and supports a specific goal.\n",
    "    - It is a _semi-public_, _semi-private_ type of cloud\n",
    "- E.g., Government funded Institutional Cloud"
   ]
  },
  {
   "cell_type": "markdown",
   "metadata": {},
   "source": [
    "### Hybrid Cloud\n",
    "\n",
    "- The cloud infrastructure is a composition of two or more clouds (private, community or public)\n",
    "- E.g., Cloud Bursting for load balancing between clouds"
   ]
  },
  {
   "cell_type": "markdown",
   "metadata": {},
   "source": [
    "## Cloud and Virtualization\n",
    "\n",
    "- Hypervisor\n",
    "    - Allows to emulate different type of machines\n",
    "\n",
    "![Cloud_and_Virtualization](images/Cloud_and_Virtualization.jpg)\n",
    "![Virtualization_Stack](images/Virtualization_Stack.jpg)"
   ]
  },
  {
   "cell_type": "markdown",
   "metadata": {},
   "source": [
    "## Virtual Machines\n",
    "\n",
    "![Virtual_Machines](images/Virtual_Machines.jpg)"
   ]
  },
  {
   "cell_type": "markdown",
   "metadata": {},
   "source": [
    "## Virtualization in General\n",
    "\n",
    "- Advantages of virtual machines:\n",
    "    - Run operating systems where the physical hardware is unavaiable\n",
    "    - Easier to create new machines, backup machines, etc.,\n",
    "    - Software testing using \"clean\" installs of operating systems and software\n",
    "    - Emulate more machines than are physically available\n",
    "    - Timeshare lightly loaded systems on one host\n",
    "    - Debug problems (suspend and resume the problem machine)\n",
    "    - Easy migration of virtual machines (shutdown needed or not)\n",
    "    - Run legacy systems"
   ]
  },
  {
   "cell_type": "markdown",
   "metadata": {},
   "source": [
    "## Cloud-Sourcing\n",
    "\n",
    "- What is [Cloud-Sourcing](https://searchcloudcomputing.techtarget.com/definition/cloud-sourcing)\n",
    "\n"
   ]
  },
  {
   "cell_type": "markdown",
   "metadata": {},
   "source": [
    "### Why is it becoming important?\n",
    "\n",
    "- Using high-scale/low-cost providers\n",
    "- Any time/place access via web browser\n",
    "- Rapid scalability; incremental cost and load sharing\n",
    "- Can forget need to focus on local IT"
   ]
  },
  {
   "cell_type": "markdown",
   "metadata": {},
   "source": [
    "### Concerns\n",
    "\n",
    "- Performance, reliability, and SLAs\n",
    "- Control of data, and service parameters\n",
    "- Application features and choices\n",
    "- Interaction between Cloud Providers\n",
    "- No standard API - mix of SOAP and REST!\n",
    "- Privacy, Security, Compliance, Trust, ..."
   ]
  },
  {
   "cell_type": "markdown",
   "metadata": {},
   "source": [
    "## Cloud Storage\n",
    "\n",
    "- Several large Web companies are now exploting the fact that they have data storage capacity that can be hired out to others.\n",
    "    - Allow data stored remotely to be temporarily cached on desktop computers, mobile phones or other internet-linked devices\n",
    "- Amazon's Elastic Compute Cloud (EC2) and Simple Storage Solution (S3) are well know examples"
   ]
  },
  {
   "cell_type": "markdown",
   "metadata": {},
   "source": [
    "## Advantages of Cloud Computing"
   ]
  },
  {
   "cell_type": "markdown",
   "metadata": {},
   "source": [
    "### Lower Computer Costs\n",
    "\n",
    "- No need of a high-powered and high-priced computer to run cloud computing's web-based applications.\n",
    "- Since applications run in the cloud, not on the desktop PC, your desktop PC does not need the processing power or hard disk space demanded by traditional desktop software\n",
    "- When you are using web-based applications, your PC can be less expensive, with a smaller hard disk, less memory, more efficient processor...\n",
    "- In fact, your PC in this scenario does not even need a CD or DVD drive, as no software programs have to be loaded and no document files need to be saved."
   ]
  },
  {
   "cell_type": "markdown",
   "metadata": {},
   "source": [
    "### Improved Performance\n",
    "\n",
    "- With few large programs hogging your computer's memory, you will see better performance from your PC\n",
    "- Computers in a cloud computing system boot and run faster because they have fewer programs and processes loaded into memory"
   ]
  },
  {
   "cell_type": "markdown",
   "metadata": {},
   "source": [
    "### Reduced Software Costs\n",
    "\n",
    "- Instead of purchasing expensive software applications, you can get most of what you need for free\n",
    "    - most cloud computing applications today, such as Google Docs Suite\n",
    "- Better than paying for similar commercial software\n",
    "    - which alone may be justification for switching to cloud applications"
   ]
  },
  {
   "cell_type": "markdown",
   "metadata": {},
   "source": [
    "### Instant Software Updates\n",
    "\n",
    "- Another advantange to cloud computing is that you are no longer faced with choosing between obsolete software and high upgrade costs\n",
    "- When the application is web-based, updates happen automatically available the next time you log into the cloud\n",
    "- When you access a web-based application, you ge the latest version without needing to pay for or download an upgrade"
   ]
  },
  {
   "cell_type": "markdown",
   "metadata": {},
   "source": [
    "### Improved document format compatibility\n",
    "\n",
    "- You do not have to worry about the documents you create on your machine being compatible with other user's applications or OS\n",
    "- There are less format incompatibilities when everyone is sharing documents and applications in the cloud"
   ]
  },
  {
   "cell_type": "markdown",
   "metadata": {},
   "source": [
    "### Unlimited Storage Capacity\n",
    "\n",
    "- Cloud Computing offers virtually limitless storage\n",
    "- Your computer's current 1 Tera Bytehard drive is small compared to the hundreds of Peta Bytes available in the cloud"
   ]
  },
  {
   "cell_type": "markdown",
   "metadata": {},
   "source": [
    "### Increased Data Reliability\n",
    "\n",
    "- Unlike desktop computing, in which if a hard disk crashes and destroy all your valuable data, a computer crashing in the cloud should not affect the storage of your data\n",
    "    - If your personal computer crashes, all your data is still out there in the cloud, still accessible\n",
    "- In a world where few individual desktop PC users back up their data on a regular basis, cloud computing is a data-safe computing platform\n",
    "    - For e.g., Dropbox, Onedrive"
   ]
  },
  {
   "cell_type": "markdown",
   "metadata": {},
   "source": [
    "### Unviersal Information Access\n",
    "\n",
    "- That is not a problem with Cloud Computing, because you do not take your documents with you\n",
    "- Instead, they stay in the cloud, and you can access them whenever you have a computer and an Internet connection\n",
    "- Documents are instantly available from wherever you are"
   ]
  },
  {
   "cell_type": "markdown",
   "metadata": {},
   "source": [
    "### Latest Version Availability\n",
    "\n",
    "- When you edit a document at home, that edited version is what you see when you access the document at work\n",
    "- The cloud always hosts the latest version of your documents as long as you are connected, you are not in danger of having a outdated version"
   ]
  },
  {
   "cell_type": "markdown",
   "metadata": {},
   "source": [
    "### Easier Group Collaboration\n",
    "\n",
    "- Sharing documents leads directly to better collaboration\n",
    "- Many users do this as it is an important advantages of Cloud Computing\n",
    "    - Multiple users can collaborate easily on documents and projects"
   ]
  },
  {
   "cell_type": "markdown",
   "metadata": {},
   "source": [
    "### Device Independence\n",
    "\n",
    "- You are no longer tethered to a single computer or network\n",
    "- Changes to computers, applications and documents follow you through the cloud\n",
    "- Move to a portable device, and your applications and documents are still available"
   ]
  },
  {
   "cell_type": "markdown",
   "metadata": {},
   "source": [
    "## Disadvantages of Cloud Computing"
   ]
  },
  {
   "cell_type": "markdown",
   "metadata": {},
   "source": [
    "### Requires a Constant Internet Connection\n",
    "\n",
    "- Cloud Computing is impossible if you cannot connect to the Internet\n",
    "- Since you use the Internet to connect to both your applications and documents, if you do not have an Internet connection you cannot access anything, even your own documents\n",
    "- A dead Internet connection means no work and in areas where Internet connections are few or inherently unreliable, this could be a deal-breaker"
   ]
  },
  {
   "cell_type": "markdown",
   "metadata": {},
   "source": [
    "### Does not work well with low-speed connection\n",
    "\n",
    "- Similarly, a low-speed Internet connection, such as that found with dial-up services, makes Cloud Computing painful at best and often impossible\n",
    "- Web-based applications require a lot of bandwidth to download, as do large documents"
   ]
  },
  {
   "cell_type": "markdown",
   "metadata": {},
   "source": [
    "### Features might be limited\n",
    "\n",
    "- This situation is bound to change, but today many web-based applications simply are not as full-featured as their desktop-based applications\n",
    "    - For example, you can do a lot more with Microsoft PowerPoint than with Google Presentation's web-based offering"
   ]
  },
  {
   "cell_type": "markdown",
   "metadata": {},
   "source": [
    "### Can be Slow\n",
    "\n",
    "- Even with a fast connecton, web-based applications can sometimes be slower than accessing a similar softwware program on your desktop PC\n",
    "- Everything about the program, from the interface to the current document, has to be sent back and forth from your computer to the computers in the cloud\n",
    "- If the cloud servers happen to be backed up at that momemnt, or if the Internet is having a slow day, you would not get the instantaneous access you might expect from desktop applications"
   ]
  },
  {
   "cell_type": "markdown",
   "metadata": {},
   "source": [
    "### Stored data might not be secure\n",
    "\n",
    "- With Cloud Computing, all your data is stored on the cloud\n",
    "    -The question is 'How Secure is it in the Cloud?'\n",
    "- Can unauthorized users gain access to your confidential data?"
   ]
  },
  {
   "cell_type": "markdown",
   "metadata": {},
   "source": [
    "### Stored data can be lost!\n",
    "\n",
    "- Theoretically, data stored in the cloud is safe, replicated across multiple machines\n",
    "- But on the off chance that your data goes missing, you have no physical or local backup\n",
    "    - Put simply, relying on the cloud puts you at risk if the cloud lets you down"
   ]
  },
  {
   "cell_type": "markdown",
   "metadata": {},
   "source": [
    "### HPC Systems\n",
    "\n",
    "- Not clear that you can run compute-intensive HPC applications that use MPI/OpemMP\n",
    "- Scheduling is important with the type of application\n",
    "    - as you want all the VM to be co-located to minimize communication latency!"
   ]
  },
  {
   "cell_type": "markdown",
   "metadata": {},
   "source": [
    "### General Concerns\n",
    "\n",
    "- Each cloud systems uses different protocols and different APIs\n",
    "    - May not be possible to run applications between cloud based systems\n",
    "- Amazon has created its own DB system (not SQL 92), and workflow system (many popular workflow systems out there)\n",
    "    - So your normal applications will have to be adapted to execute on these platforms"
   ]
  },
  {
   "cell_type": "code",
   "execution_count": null,
   "metadata": {},
   "outputs": [],
   "source": []
  }
 ],
 "metadata": {
  "kernelspec": {
   "display_name": "Python 3",
   "language": "python",
   "name": "python3"
  },
  "language_info": {
   "codemirror_mode": {
    "name": "ipython",
    "version": 3
   },
   "file_extension": ".py",
   "mimetype": "text/x-python",
   "name": "python",
   "nbconvert_exporter": "python",
   "pygments_lexer": "ipython3",
   "version": "3.6.9"
  }
 },
 "nbformat": 4,
 "nbformat_minor": 2
}
