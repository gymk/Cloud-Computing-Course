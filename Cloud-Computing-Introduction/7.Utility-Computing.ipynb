{
 "cells": [
  {
   "cell_type": "markdown",
   "metadata": {},
   "source": [
    "# Utility Computing\n",
    "\n",
    "- All the paradigm (Distributed, Grid, Cluster, ...) motivated to a system or to a realization of a things called _Utility Computing_"
   ]
  },
  {
   "cell_type": "markdown",
   "metadata": {},
   "source": [
    "## What is Utility Computing?\n",
    "\n",
    "- Utility means 'If I want something, I should be able to get it as and when I require it'\n",
    "    - As if like going to the marker and puchasing it or like services 'Book a Train/Flight ticket'\n",
    "    - Here we don't care how thins are done, we want a Utility to serve me"
   ]
  },
  {
   "cell_type": "markdown",
   "metadata": {},
   "source": [
    "## Characteristics of Utility Computing\n",
    "\n",
    "- _Utility computing is purely a concept_ which cloud computing practically implements\n",
    "- _Utility computing is a service provisioning model_ in which a service provider makes computing resources and infrastructure management available to the customer as needed, and charge them for specific usage rather than a flat rate.\n",
    "- This model has the advantage of a low or no initial cost to acquire computer resources; instead, computational resources are essentially rented.\n",
    "- The worl _utility_ is used to make an analogy to other services, such as electrical power, that seek to meet fluctuating customer need, and charge for the resources based on usage rather than on a flat-rate basis. This approach sometimes known as _pay-per-use_.\n",
    "\n",
    "![Utility_Computing](files/Utility_Computing.jpg)\n",
    "![Utility_Computing_2](files/Utility_Computing_2.jpg)"
   ]
  },
  {
   "cell_type": "markdown",
   "metadata": {},
   "source": [
    "## Utility Computing Example\n",
    "\n",
    "- Say if we are going to conduct a competition/ recruitment via online\n",
    "- We do not need to create whole infrastructure for that job\n",
    "- Instead we can use On-Demand Utility Services to accomplish the job\n",
    "\n",
    "![Utility_Computing_Example](files/Utility_Computing_Example.jpg)"
   ]
  },
  {
   "cell_type": "markdown",
   "metadata": {},
   "source": [
    "## Utility Solution - Your Perspective\n",
    "\n",
    "- There will be _Provider_ and _User_ in Utility Computing\n",
    "- Both will have different requirements, models, management issues\n",
    "- But both will be tied together\n",
    "    - Example: Pricing\n",
    "        - What proce you will give?\n",
    "- Analogy\n",
    "    - I want a mobile service provider who gives more data services than calling\n",
    "\n",
    "![Utility_Solution_Your_Perspective](files/Utility_Solution_Your_Perspective.jpg)"
   ]
  },
  {
   "cell_type": "markdown",
   "metadata": {},
   "source": [
    "## Utility Computing Payment Methods\n",
    "\n",
    "![Utility_Computing_Payment_Methods](files/Utility_Computing_Payment_Methods.jpg)"
   ]
  },
  {
   "cell_type": "markdown",
   "metadata": {},
   "source": [
    "## Risks in a Utility Computing World\n",
    "\n",
    "- Data Backup\n",
    "- Data Security\n",
    "- Partner Competency\n",
    "- Defining SLA\n",
    "- Getting value from charge back"
   ]
  },
  {
   "cell_type": "code",
   "execution_count": null,
   "metadata": {},
   "outputs": [],
   "source": []
  }
 ],
 "metadata": {
  "kernelspec": {
   "display_name": "Python 3",
   "language": "python",
   "name": "python3"
  },
  "language_info": {
   "codemirror_mode": {
    "name": "ipython",
    "version": 3
   },
   "file_extension": ".py",
   "mimetype": "text/x-python",
   "name": "python",
   "nbconvert_exporter": "python",
   "pygments_lexer": "ipython3",
   "version": "3.6.9"
  }
 },
 "nbformat": 4,
 "nbformat_minor": 2
}
