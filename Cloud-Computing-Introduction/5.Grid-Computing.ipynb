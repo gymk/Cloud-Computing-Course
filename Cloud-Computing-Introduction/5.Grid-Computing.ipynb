{
 "cells": [
  {
   "cell_type": "markdown",
   "metadata": {},
   "source": [
    "# Grid Computing"
   ]
  },
  {
   "cell_type": "markdown",
   "metadata": {},
   "source": [
    "## Definition(s)\n",
    "\n",
    "- Another Computing Paradigm\n",
    "- [pcwebopedia.com](https://www.webopedia.com/TERM/G/grid_computing.html)\n",
    "    - A form of networking. Unlike conventional networks that focus on communication among devices, grid computing harnesses unused processing cycles of all computers in a network for solving problems too intensive for any stand-alone machine\n",
    "- IBM\n",
    "    - Grid computing enables the virtualization of distributed computing and data resources such as processing, network bandwith and storage capacity to create a single system image, granting users and applications seamless to vast IT capabilities. Just as an Internet user views a unified instance of content via the Web, a grid user essentially sees a single, large, virtual computer\n",
    "- Sun Microsystems\n",
    "    - Grid Computing is a computing infrastructure that provides dependable consistent, pervasive and inexpensive access to computational capabilities"
   ]
  },
  {
   "cell_type": "markdown",
   "metadata": {},
   "source": [
    "## Electrical Power Grid Analogy\n",
    "\n",
    "![Electrical_Power_Grid_Analogy](files/Electrical_Power_Grid_Analogy.jpg)"
   ]
  },
  {
   "cell_type": "markdown",
   "metadata": {},
   "source": [
    "## Characteristics of Grid Computing\n",
    "\n",
    "- Share more than information: Data, computing power, applications in dynamic environment, multi-institutional, virtual organizations\n",
    "- Efficient use of resources at many institues. People from many institutions working to solve a common problem (virtual organization)\n",
    "    - Example: University Lab\n",
    "        - When Lab is not in use, its reosurces can be shared with other labs in the University, such that resources can be utilized well\n",
    "            - A layer on top of machine, providing virtualiztion, on top it, researchers can run their applications\n",
    "- Join local communities\n",
    "- Interactions with the underneath layers must be transparent and seemless to the user"
   ]
  },
  {
   "cell_type": "markdown",
   "metadata": {},
   "source": [
    "## Need of Grid Computing?\n",
    "\n",
    "- Today's Science/Research is based on computations, data analysis, data visualization & collaborations\n",
    "    - Scientific Community is a big user of Grid Computing\n",
    "- Computer Simulations & Modeling are more cost effective than experimental methods\n",
    "- Scientific and Engineering problems are becoming more complex & users need more accurate, precise solutions to their problems in shortest possible time\n",
    "- Data Visualization is becoming very important\n",
    "- Exploiting under utilized resources"
   ]
  },
  {
   "cell_type": "markdown",
   "metadata": {},
   "source": [
    "## Who uses Grid Computing?\n",
    "\n",
    "![Who_uses_Grid_Computing](files/Who_uses_Grid_Computing.jpg)"
   ]
  },
  {
   "cell_type": "markdown",
   "metadata": {},
   "source": [
    "## Types of Grids\n",
    "\n",
    "- __*Computational Grid*__: These grids provide secure access to huge pool of shared processing power suitable for high throughput applications and computation intensive computing\n",
    "- __*Data Grid*__: Data grids provide an infrastructure to support data storage, data discovery, data handling, data publication, and data manipulation of large volumes of data actually stored in various heterogeneous databases and file systems\n",
    "- __*Collaboration Grid*__: With the advent of Internet, there has been an increased demand for better collaboration. Such advanced collaboration is possible using the grid. For instance, persons from different companies in a virtual enterprise can work on different components of a CAD project without even disclosing their proprietary technologies.\n",
    "- __*Network Grid*__: A Netwrk Grid provides fault-tolerant and high-performance communication services. Each grid node works as a data router between two communication points, providing data-caching and other facilities to speed up the communications between such points.\n",
    "- __*Utility Grid*__: This is the ultimate form of the Grid, in which not only data and computation cycles are shared but software or just about any resource is shared. The main services provided through utility grids are software and special equipment. For instance, the applicationscan be run on one machine and all the users can send their data to be processed to that machine and receive the result back."
   ]
  },
  {
   "cell_type": "markdown",
   "metadata": {},
   "source": [
    "## Grid Components\n",
    "\n",
    "![Grid_Components](files/Grid_Components.jpg)"
   ]
  },
  {
   "cell_type": "code",
   "execution_count": null,
   "metadata": {},
   "outputs": [],
   "source": []
  }
 ],
 "metadata": {
  "kernelspec": {
   "display_name": "Python 3",
   "language": "python",
   "name": "python3"
  },
  "language_info": {
   "codemirror_mode": {
    "name": "ipython",
    "version": 3
   },
   "file_extension": ".py",
   "mimetype": "text/x-python",
   "name": "python",
   "nbconvert_exporter": "python",
   "pygments_lexer": "ipython3",
   "version": "3.6.9"
  }
 },
 "nbformat": 4,
 "nbformat_minor": 2
}
