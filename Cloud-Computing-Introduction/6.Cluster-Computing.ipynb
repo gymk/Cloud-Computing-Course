{
 "cells": [
  {
   "cell_type": "markdown",
   "metadata": {},
   "source": [
    "# Cluster Computing"
   ]
  },
  {
   "cell_type": "markdown",
   "metadata": {},
   "source": [
    "## What is Cluster Computing?\n",
    "\n",
    "- A cluster is a type of parallel or distributed computer system, which consists of a collection of inter-connected stand-alone computers working together as a single integrated computing resource.\n",
    "- Key components of a cluster include multiple standaline computers (PCs, Workstations, or SMPs), operating systems, high-performance interconnects, middleware, parallel programming environments, and applications"
   ]
  },
  {
   "cell_type": "markdown",
   "metadata": {},
   "source": [
    "## Characterirics of Cluster Computing\n",
    "\n",
    "- Clusters are usually deployed to improve speed and/ or reliability over that provided by a single computer, while typically being much more cost effective than single computer (of comparable speed or reliability)\n",
    "- In a typical cluster:\n",
    "    - Network: Faster, closer connection than typical network (LAN)\n",
    "    - Low latency communication protocols\n",
    "    - Loosely coupled than SMP"
   ]
  },
  {
   "cell_type": "markdown",
   "metadata": {},
   "source": [
    "## Types of Cluster\n",
    "\n",
    "- High Availability or Failover Clusters\n",
    "    - If there is any failure, other nodes in the cluster should take care off\n",
    "- Load Balancing Cluster\n",
    "- Parallel/Distributed Processing Clusters"
   ]
  },
  {
   "cell_type": "markdown",
   "metadata": {},
   "source": [
    "## Cluster Components\n",
    "\n",
    "![Cluster_Components](images/Cluster_Components.jpg)"
   ]
  },
  {
   "cell_type": "markdown",
   "metadata": {},
   "source": [
    "## Key Operational Benefits of Clustering\n",
    "\n",
    "- __*System availability*__: Offer inherent high system availability due to the redundancy of hardware, operating systems, and applications\n",
    "- __*Hardware Fault Tolerance*__: Redundancy for most system components (eg. disk-RAID), including both hardware and software.\n",
    "- __*OS and Application Reliability*__: Run multiple copies of the OS and applications, and through this redundancy\n",
    "- __*Scalability*__: Adding servers to the cluster or by adding more clusters to the network as the need arises or CPU to SMP\n",
    "- __*High Performance*__: (running cluster enabled programs)"
   ]
  },
  {
   "cell_type": "code",
   "execution_count": null,
   "metadata": {},
   "outputs": [],
   "source": []
  }
 ],
 "metadata": {
  "kernelspec": {
   "display_name": "Python 3",
   "language": "python",
   "name": "python3"
  },
  "language_info": {
   "codemirror_mode": {
    "name": "ipython",
    "version": 3
   },
   "file_extension": ".py",
   "mimetype": "text/x-python",
   "name": "python",
   "nbconvert_exporter": "python",
   "pygments_lexer": "ipython3",
   "version": "3.6.9"
  }
 },
 "nbformat": 4,
 "nbformat_minor": 2
}
