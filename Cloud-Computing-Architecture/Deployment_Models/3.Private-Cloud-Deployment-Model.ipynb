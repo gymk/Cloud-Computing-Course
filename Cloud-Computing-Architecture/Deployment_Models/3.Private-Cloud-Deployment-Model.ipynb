{
 "cells": [
  {
   "cell_type": "markdown",
   "metadata": {},
   "source": [
    "# Private Cloud Deployment Model"
   ]
  },
  {
   "cell_type": "markdown",
   "metadata": {},
   "source": [
    "- The cloud infrastructure is provisioned for exclusive use by a single organization, comprising, multiple consumers (e.g., business units).\n",
    "  - It may be owned, managed and operated by the organization, a third party, or some combination of them, and it may exist on or off premises\n",
    "  - From \"Security of Cloud Computing\" by Marcus Hogue Chris Jacobson\n",
    "    - ![Enterprise_to_Cloud__Private_Cloud](images/Enterprise_to_Cloud__Private_Cloud.jpg)"
   ]
  },
  {
   "cell_type": "markdown",
   "metadata": {},
   "source": [
    "## Examples of Private Cloud"
   ]
  },
  {
   "cell_type": "markdown",
   "metadata": {},
   "source": [
    "- Eucalyptus\n",
    "  - [Elastic Utility Computing Architecture for Linking Your Programs To Useful Systems](https://www.ijeat.org/wp-content/uploads/papers/v6i6/F5162086617.pdf)\n",
    "- Ubuntu Enterprise Cloud - UEC\n",
    "- Amazon VPC (Virtual Private Cloud)\n",
    "- VMWare Cloud Infrastructure Suite\n",
    "- Microsoft ECI data center"
   ]
  },
  {
   "cell_type": "markdown",
   "metadata": {},
   "source": [
    "## Deployment Scenario"
   ]
  },
  {
   "cell_type": "markdown",
   "metadata": {},
   "source": [
    "- Contrary to popular belief, Private Cloud may exist off premises and can be managed by a third party. Thus, two privte cloud scenarios exists as follows:\n",
    "- __*On-site Private Cloud*__\n",
    "  - Applies to private clouds implemented at a customer's premises\n",
    "- __*Outsourced Private Cloud*__\n",
    "  - Applies to private clouds where the server side is outsourced to a hosting company"
   ]
  },
  {
   "cell_type": "markdown",
   "metadata": {},
   "source": [
    "## On-site Private Cloud"
   ]
  },
  {
   "cell_type": "markdown",
   "metadata": {},
   "source": [
    "- From [2]\n",
    "  - A simple view of an On-site private cloud.\n",
    "    - As shown in figure, the security perimeter extends around both the subscriber's on-site resources and and the private cloud's resources\n",
    "  - The private cloud may be centralized at a single customer's place or may be distributed over servaral customer sites\n",
    "  - The security permiter will exist only if the consumer implements it.\n",
    "    - If implemented, security perimeter does not guarantees control over the private cloud's resources but suscriber can exercise control over the resources"
   ]
  },
  {
   "cell_type": "markdown",
   "metadata": {},
   "source": [
    "![On_Site_Private_Cloud_Scenario](images/On_Site_Private_Cloud_Scenario.jpg)"
   ]
  },
  {
   "cell_type": "markdown",
   "metadata": {},
   "source": [
    "### Implications of On-site Private Cloud"
   ]
  },
  {
   "cell_type": "markdown",
   "metadata": {},
   "source": [
    "#### Network Dependency"
   ]
  },
  {
   "cell_type": "markdown",
   "metadata": {},
   "source": [
    "- Depending on the configuration (e.g., single physical site, protected cloud network), the network depedency for an on-site private cloud may be limited to dependence on networking resources over which a consumer has control (e.g., local area network LAN)."
   ]
  },
  {
   "cell_type": "markdown",
   "metadata": {},
   "source": [
    "## Outsources of Private Cloud"
   ]
  },
  {
   "cell_type": "code",
   "execution_count": null,
   "metadata": {},
   "outputs": [],
   "source": []
  }
 ],
 "metadata": {
  "kernelspec": {
   "display_name": "Python 3",
   "language": "python",
   "name": "python3"
  },
  "language_info": {
   "codemirror_mode": {
    "name": "ipython",
    "version": 3
   },
   "file_extension": ".py",
   "mimetype": "text/x-python",
   "name": "python",
   "nbconvert_exporter": "python",
   "pygments_lexer": "ipython3",
   "version": "3.6.9"
  }
 },
 "nbformat": 4,
 "nbformat_minor": 4
}
