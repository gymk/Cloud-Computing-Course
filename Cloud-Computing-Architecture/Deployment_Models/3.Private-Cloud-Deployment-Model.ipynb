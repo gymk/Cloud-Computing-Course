{
 "cells": [
  {
   "cell_type": "markdown",
   "metadata": {},
   "source": [
    "# Private Cloud Deployment Model"
   ]
  },
  {
   "cell_type": "markdown",
   "metadata": {},
   "source": [
    "- The cloud infrastructure is provisioned for exclusive use by a single organization, comprising, multiple consumers (e.g., business units).\n",
    "  - It may be owned, managed and operated by the organization, a third party, or some combination of them, and it may exist on or off premises\n",
    "  - From \"Security of Cloud Computing\" by Marcus Hogue Chris Jacobson\n",
    "    - ![Enterprise_to_Cloud__Private_Cloud](images/Enterprise_to_Cloud__Private_Cloud.jpg)"
   ]
  },
  {
   "cell_type": "markdown",
   "metadata": {},
   "source": [
    "## Examples of Private Cloud"
   ]
  },
  {
   "cell_type": "markdown",
   "metadata": {},
   "source": [
    "- Eucalyptus\n",
    "  - [Elastic Utility Computing Architecture for Linking Your Programs To Useful Systems](https://www.ijeat.org/wp-content/uploads/papers/v6i6/F5162086617.pdf)\n",
    "- Ubuntu Enterprise Cloud - UEC\n",
    "- Amazon VPC (Virtual Private Cloud)\n",
    "- VMWare Cloud Infrastructure Suite\n",
    "- Microsoft ECI data center"
   ]
  },
  {
   "cell_type": "markdown",
   "metadata": {},
   "source": [
    "## Deployment Scenario"
   ]
  },
  {
   "cell_type": "markdown",
   "metadata": {},
   "source": [
    "- Contrary to popular belief, Private Cloud may exist off premises and can be managed by a third party. Thus, two privte cloud scenarios exists as follows:\n",
    "- __*On-site Private Cloud*__\n",
    "  - Applies to private clouds implemented at a customer's premises\n",
    "- __*Outsourced Private Cloud*__\n",
    "  - Applies to private clouds where the server side is outsourced to a hosting company"
   ]
  },
  {
   "cell_type": "markdown",
   "metadata": {},
   "source": [
    "### On-site Private Cloud"
   ]
  },
  {
   "cell_type": "markdown",
   "metadata": {},
   "source": [
    "- From [2]\n",
    "  - A simple view of an On-site private cloud.\n",
    "    - As shown in figure, the security perimeter extends around both the subscriber's on-site resources and and the private cloud's resources\n",
    "  - The private cloud may be centralized at a single customer's place or may be distributed over servaral customer sites\n",
    "  - The security permiter will exist only if the consumer implements it.\n",
    "    - If implemented, security perimeter does not guarantees control over the private cloud's resources but suscriber can exercise control over the resources"
   ]
  },
  {
   "cell_type": "markdown",
   "metadata": {},
   "source": [
    "![On_Site_Private_Cloud_Scenario](images/On_Site_Private_Cloud_Scenario.jpg)"
   ]
  },
  {
   "cell_type": "markdown",
   "metadata": {},
   "source": [
    "#### Implications/Considerations of On-site Private Cloud"
   ]
  },
  {
   "cell_type": "markdown",
   "metadata": {},
   "source": [
    "- __Network Dependency__\n",
    "  - Depending on the configuration (e.g., single physical site, protected cloud network), the network depedency for an on-site private cloud may be limited to dependence on networking resources over which a consumer has control (e.g., local area network LAN).\n",
    "- __Subscribers still need IT Skills__\n",
    "  - Subscriber organizations will need the traidional IT skills required to manage user devices that access the Private Cloud, and will require cloud IT skills as well\n",
    "- __Workload locations are hidden from clients__\n",
    "  - To manage a cloud's hardware resoruces, a private cloud must be able to migrate workloads between machines without inconveniencing clients.\n",
    "  - With an on-site private cloud, however, a subscriber organization chooses the physical infrastructure, but individual clients still may not know where their workloads physically exist within the subscriber organization's infrastructure\n",
    "- __Risks from multi-tenancy__\n",
    "  - Workloads of different clients may reside concurrently on the same systems and local networks, separated only by access policies implemented by a cloud provider's software.\n",
    "  - A flaw in the software or the policies could compromise the security of a subscriber organization by exposing client workdloads to one another\n",
    "- __Data import/export, and performance limitaions__\n",
    "  - On-demand bulk data import/export is limited by the on-site private cloud's network capacity, and real-time or critical processing may be problematic because of networking limitations.\n",
    "- __Potentially strong security from external threats__\n",
    "  - In an on-site private cloud, a subscriber has the option of implementing an appropriately strong security perimeter to protect private cloud resources against external threats to the same level of security as can be achieved for non-cloud resources\n",
    "- __Significant-to-high up-front costs to migrate into the cloud__\n",
    "  - An on-site private cloud requires that cloud management software be installed on computer systems within a subscriber organization.\n",
    "  - If the cloud is intended to support process-intesive or data-intensive workloads, the software will need to be installed on numerous commodity systems or on a more limited number of high-performance systems.\n",
    "  - Installing cloud software and managing the installtions will incur significant up-front costs, even if the cloud software itself is free, and even if much of the hardware already exists within a subscriber organization\n",
    "- __Limited resources__\n",
    "  - An on-site private cloud, at any specific time, has a fixed computing and storage capacity that has been sized to correspond to anticipated workloads and cost restrictions"
   ]
  },
  {
   "cell_type": "markdown",
   "metadata": {},
   "source": [
    "### Outsourced Private Cloud"
   ]
  },
  {
   "cell_type": "markdown",
   "metadata": {},
   "source": [
    "- Outsourced private cloud has two security perimeters, one implemented by a cloud subscriber (on the right) and one implemented by a provider\n",
    "- Two security perimeters are joined by a protected communications link\n",
    "- The security of data and processing conducted in the outsourced private cloud depends on the strength and avalability of both security perimeters and of the protected communication link"
   ]
  },
  {
   "cell_type": "markdown",
   "metadata": {},
   "source": [
    "![Outsourced_Private_Cloud_Scenario](images/Outsourced_Private_Cloud_Scenario.jpg)"
   ]
  },
  {
   "cell_type": "markdown",
   "metadata": {},
   "source": [
    "#### Implications/Considerations of Outsourced Private Cloud"
   ]
  },
  {
   "cell_type": "markdown",
   "metadata": {},
   "source": [
    "- __Network Dependency__\n",
    "  - In the outsourced private scenario, subscribers may have an option to provision unique protected and reliable communication links with the provider\n",
    "- __Workload locations are hidden from clients__\n",
    "- __Risks from multi-tenancy__\n",
    "  - The implications are the same as those for an on-site private cloud\n",
    "- __Data import/export, and performance limitations__\n",
    "  - On-demand bulk data import/export is limited by the network capacity between a provider and subscriber, and real-time or critical processing may be problematic because of networking limitations.\n",
    "  - In the outsourced private cloud scenario, however, these limits may be adjusted, although not eliminated, by provisioning high-performance an/or high-reliability networking between the provider and subscriber\n",
    "- __Potentially strong security from external threats__\n",
    "  - As with the on-site private cloud scenario, a variety of techniques exist to harden a security perimeter.\n",
    "  - The main difference with the outsourced private cloud is that the techniques need to be applied both to a subscriber's perimeter and provider's perimeter, and that the communications link needs to be protected.\n",
    "- __Modest-to-significant up-front costs to migrate into the cloud__\n",
    "  - In the outsourced private cloud scenario, the resources are provisioned by the provider\n",
    "  - Main start-up costs for the subscriber relates to:\n",
    "    - Negotiating the terms of the Service Level Agreemnt (SLA)\n",
    "    - Possible upgrading the subscriber's network to connect to the outsourced private cloud\n",
    "    - Switching from traditional applications to cloud-hosted applications\n",
    "    - Porting existing non-cloud operations to the cloud\n",
    "    - Training\n",
    "- __Extensive resources available__\n",
    "  - In the case of the outsourced private cloud, a subscriber can rent resources in any quantity offered by the provider.\n",
    "  - Provisioning and operating computing equipment at scale is a core competency of providers"
   ]
  },
  {
   "cell_type": "code",
   "execution_count": null,
   "metadata": {},
   "outputs": [],
   "source": []
  }
 ],
 "metadata": {
  "kernelspec": {
   "display_name": "Python 3",
   "language": "python",
   "name": "python3"
  },
  "language_info": {
   "codemirror_mode": {
    "name": "ipython",
    "version": 3
   },
   "file_extension": ".py",
   "mimetype": "text/x-python",
   "name": "python",
   "nbconvert_exporter": "python",
   "pygments_lexer": "ipython3",
   "version": "3.6.9"
  }
 },
 "nbformat": 4,
 "nbformat_minor": 4
}
