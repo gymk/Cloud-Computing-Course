{
 "cells": [
  {
   "cell_type": "markdown",
   "metadata": {},
   "source": [
    "# Public Cloud Deployment Model"
   ]
  },
  {
   "cell_type": "markdown",
   "metadata": {},
   "source": [
    "- Cloud infrastructure is __*provided for open use*__ by the general public.\n",
    "  - It may be owned, managed, and operated by a business, academic, or government organization, or some combination of them.\n",
    "  - It exists on the premises of the cloud provider\n",
    "  - Anyone (Enterprise or an individual) can subscribe to Public Cloud over the internet\n",
    "  - From \"Security of Cloud Computing\" by Marcus Hogue Chris Jacobson\n",
    "    - ![Enterprise_to_Cloud__Public_Cloud](images/Enterprise_to_Cloud__Public_Cloud.jpg)"
   ]
  },
  {
   "cell_type": "markdown",
   "metadata": {},
   "source": [
    "## Examples of Public Cloud"
   ]
  },
  {
   "cell_type": "markdown",
   "metadata": {},
   "source": [
    "  - Google App Engine\n",
    "  - Microsoft Windows Azure\n",
    "  - IBM Smart Cloud\n",
    "  - Amazon EC2"
   ]
  },
  {
   "cell_type": "markdown",
   "metadata": {},
   "source": [
    "## Deployment Scenario"
   ]
  },
  {
   "cell_type": "markdown",
   "metadata": {},
   "source": [
    "- In Public setting, the provider's computing and storage resoruces are potentially large; the communication links can be assumed to be implemented over the public internet; and the cloud serves a diverse pool of clients (and possibly attackers).\n",
    "  - From [2]\n",
    "    - ![Public_Cloud_Scenario](images/Public_Cloud_Scenario.jpg)"
   ]
  },
  {
   "cell_type": "markdown",
   "metadata": {},
   "source": [
    "## Implications of Public Cloud"
   ]
  },
  {
   "cell_type": "markdown",
   "metadata": {},
   "source": [
    "### Workload locations are hidden from clients (public)"
   ]
  },
  {
   "cell_type": "markdown",
   "metadata": {},
   "source": [
    "- In the public scenario, a provider may migrate a subscriber's wordload, whether processing or data, at any time.\n",
    "  - Hidden\n",
    "    - You do not know where your Virtual Machine is residing\n",
    "    - You do not know where your actual data is residing\n",
    "    - You do not know that with whom it is residing\n",
    "  - All of these are hidden from clients (users)\n",
    "  - If you are not very stringent about legal and policy matters (about security and other aspects), it is fine to not to care about above things\n",
    "- Workload can be transferred to data centres where cost is low\n",
    "- Wordloads in a public cloud may be relocated anywhere at any time unless the provider has offered (optional) location restriction policies"
   ]
  },
  {
   "cell_type": "markdown",
   "metadata": {},
   "source": [
    "### Risks from multi-tenancy (public)"
   ]
  },
  {
   "cell_type": "markdown",
   "metadata": {},
   "source": [
    "- A single machine may be shared by the workloads of any combination of subscribers (a subscriber's workload may be co-resident with the workloads of competitors or adversaries)\n",
    "  - Since it is hidden, we do not know whether anyone else has access to our data?\n",
    "- Introduces both reliability and security risk\n",
    "  - Because it is hidden"
   ]
  },
  {
   "cell_type": "markdown",
   "metadata": {},
   "source": [
    "### Network Dependency"
   ]
  },
  {
   "cell_type": "markdown",
   "metadata": {},
   "source": [
    "- Subscribers connect to providers via the public Internet\n",
    "- Connection depends on Internet's Infrastructure like\n",
    "  - DNS (Domain Name System) servers\n",
    "  - Router infrastructure\n",
    "  - Inter-router links"
   ]
  },
  {
   "cell_type": "markdown",
   "metadata": {},
   "source": [
    "### Limited visibility and control over data regarding Security"
   ]
  },
  {
   "cell_type": "markdown",
   "metadata": {},
   "source": [
    "- The details of provider system operation are usually considered proprietary information and are not divulged to subscribers\n",
    "- In many cases, the software employed by a provideris usually proprietary and not available for examination by suscribers\n",
    "- A subscriber cannot verify that data has been completely deleted from a provider's systems"
   ]
  },
  {
   "cell_type": "markdown",
   "metadata": {},
   "source": [
    "### Elasticity: Illusion of unlimited resource availability"
   ]
  },
  {
   "cell_type": "markdown",
   "metadata": {},
   "source": [
    "- Public cloud are generally unrestricted in their location or size\n",
    "- Public clouds potentially have high degree of flexibility in the movement of subscriber workloads to correspond with available resources."
   ]
  },
  {
   "cell_type": "markdown",
   "metadata": {},
   "source": [
    "### Low up-front costs to migrate into the Cloud"
   ]
  },
  {
   "cell_type": "markdown",
   "metadata": {},
   "source": [
    "- Having own Private Cloud is costly\n",
    "  - Hardware/ Infrastrucure cost\n",
    "  - Installing, Running and Testing Software(s)\n",
    "  - Maintaining Infrastructure\n",
    "- With Public Cloud, migration to Cloud is possible with low costs\n",
    "  - You pay and use it"
   ]
  },
  {
   "cell_type": "markdown",
   "metadata": {},
   "source": [
    "### Restrictive default service level agreements"
   ]
  },
  {
   "cell_type": "markdown",
   "metadata": {},
   "source": [
    "- The default service level agreements of public clouds specify limited promises that providers make to subscribers\n",
    "  - Need to follow the providers Terms and Conditions"
   ]
  },
  {
   "cell_type": "code",
   "execution_count": null,
   "metadata": {},
   "outputs": [],
   "source": []
  }
 ],
 "metadata": {
  "kernelspec": {
   "display_name": "Python 3",
   "language": "python",
   "name": "python3"
  },
  "language_info": {
   "codemirror_mode": {
    "name": "ipython",
    "version": 3
   },
   "file_extension": ".py",
   "mimetype": "text/x-python",
   "name": "python",
   "nbconvert_exporter": "python",
   "pygments_lexer": "ipython3",
   "version": "3.6.9"
  }
 },
 "nbformat": 4,
 "nbformat_minor": 4
}
