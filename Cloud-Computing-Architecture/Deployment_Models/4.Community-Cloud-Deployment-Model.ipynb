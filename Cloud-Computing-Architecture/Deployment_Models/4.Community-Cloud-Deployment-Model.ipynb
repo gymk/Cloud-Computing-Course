{
 "cells": [
  {
   "cell_type": "markdown",
   "metadata": {},
   "source": [
    "# Community Cloud Deployment Model"
   ]
  },
  {
   "cell_type": "markdown",
   "metadata": {},
   "source": [
    "- Cloud infrastructure is provisioned for exclusive use by a specific community of consumers from organizations that have shared concerns (e.g., mission, security requirements, policy, and compliance considerations).\n",
    "  - It may be owned, managed, and operated by one or more of the organizations in the community, a third party, or some combination of them, and\n",
    "  - It may exist on or off premises"
   ]
  },
  {
   "cell_type": "markdown",
   "metadata": {},
   "source": [
    "![Enterprise_to_Cloud__Community_Cloud](images/Enterprise_to_Cloud__Community_Cloud.jpg)"
   ]
  },
  {
   "cell_type": "markdown",
   "metadata": {},
   "source": [
    "## Examples of Community Cloud"
   ]
  },
  {
   "cell_type": "markdown",
   "metadata": {},
   "source": [
    "- Google Apps for Government\n",
    "- Microsoft Government Community Cloud"
   ]
  },
  {
   "cell_type": "markdown",
   "metadata": {},
   "source": [
    "## Deployment Scenario"
   ]
  },
  {
   "cell_type": "markdown",
   "metadata": {},
   "source": [
    "- Community cloud is made up of a set of participant organizations.\n",
    "  - Each organization may provide cloud services, consume cloud services, or both\n",
    "- At least one organization must provide cloud services\n",
    "- Each organization implements a security perimeter"
   ]
  },
  {
   "cell_type": "markdown",
   "metadata": {},
   "source": [
    "### On-site Community Cloud"
   ]
  },
  {
   "cell_type": "markdown",
   "metadata": {},
   "source": [
    "- The participant organizations are connected via links between the boundary controllers that allow acess through their security perimeters\n",
    "- Access policy of a Community Cloud may be complex\n",
    "  - Ex: If there are N community members, a decision must be made, either implicity or explicitly, on how to share a member's local clooud resources with each of the other members\n",
    "  - Policy specification techniques like role-based access control (RBAC), attribute-based access control can be used to express sharing policies"
   ]
  },
  {
   "cell_type": "markdown",
   "metadata": {},
   "source": [
    "![On_Site_Community_Cloud_Scenario](images/On_Site_Community_Cloud_Scenario.jpg)"
   ]
  },
  {
   "cell_type": "markdown",
   "metadata": {},
   "source": [
    "#### Implications/Considerations of On-site Community Cloud"
   ]
  },
  {
   "cell_type": "markdown",
   "metadata": {},
   "source": [
    "- __Network Dependency__\n",
    "  - The subscribers in an on-site community cloud need to either provision controlled inter-site communication links or use crytography over a less controlled communications media (such as the public Internet)\n",
    "  - The reliability and security of the community cloud depends on the reliability and security of the communication links.\n",
    "- __Subscribers still need IT skills__\n",
    "  - Organizations in the commnity that providers cloud services, require IT skills similar to those required for the on-site private cloud scenario except that the overall cloud configuration may be more compex and hence require a higher skill level\n",
    "  - Identity and Access Control configurations among the participant organizations may be complex\n",
    "- __Workload locations are hidden from clients__\n",
    "  - Participant Organizations providing cloud services to the Community Cloud may wish to employ an outsourced private cloud as a part of its implementation strategy\n",
    "- __Data import/export, and performance limitations__\n",
    "  - The communication links between the various participant organizations in a community cloud can be provisioned to various levels of performance, security and reliability, based on the needs of the participant organizations.\n",
    "  - The network-based limitations are thus similar to those of the outsourced private cloud scenario\n",
    "- __Potentially strong security from external threats__\n",
    "  - The security of a community cloud from external threats depends on the security of all the security perimiters of the participant organizations and the strength of the communication links.\n",
    "  - These dependencies are essentially similar to those of the outsourced private cloud scenario, but with possibly more links and security parameters\n",
    "- Highly variable up-front costs to migrate into the cloud\n",
    "  - The up-front costs of an on-site community cloud for a participant organization depend greatly on whether the organization plans to consume cloud services only or also to provide cloud services.\n",
    "  - For a participant organization that intends to provide cloud services within the community cloud, the costs appear to be similar to those for the on-site cloud scenario (i.e., significant-to-high)"
   ]
  },
  {
   "cell_type": "markdown",
   "metadata": {},
   "source": [
    "### Outsourced Community Cloud"
   ]
  },
  {
   "cell_type": "markdown",
   "metadata": {},
   "source": [
    "![Outsourced_Community_Cloud_Scenario](images/Outsourced_Community_Cloud_Scenario.jpg)"
   ]
  },
  {
   "cell_type": "markdown",
   "metadata": {},
   "source": [
    "#### Implications/Considerations of Outsourced Community Cloud"
   ]
  },
  {
   "cell_type": "markdown",
   "metadata": {},
   "source": [
    "- __Network Dependency__\n",
    "  - The network dependency of the outsourced community cloud is similar to that of the outsourced private cloud.\n",
    "  - The primary difference is that multiple protected communication links are likely from the community members to the provider's facility\n",
    "- __Workload locations are hidden from clients__\n",
    "  - Same as the outsourced private cloud\n",
    "- __Risks from multi-tenancy__\n",
    "  - Same as the on0-site community cloud\n",
    "- __Data import/export, and performance__\n",
    "  - Same as outsourced private cloud\n",
    "- __Potentially strong security from external threats__\n",
    "  - Same as the on-site community cloud\n",
    "- __Modest-to-significant up-front costs to migrate into the cloud__\n",
    "  - Same as outsourced private cloud\n",
    "- __Extensive resources available__\n",
    "  - Same as outsourced private cloud"
   ]
  },
  {
   "cell_type": "code",
   "execution_count": null,
   "metadata": {},
   "outputs": [],
   "source": []
  }
 ],
 "metadata": {
  "kernelspec": {
   "display_name": "Python 3",
   "language": "python",
   "name": "python3"
  },
  "language_info": {
   "codemirror_mode": {
    "name": "ipython",
    "version": 3
   },
   "file_extension": ".py",
   "mimetype": "text/x-python",
   "name": "python",
   "nbconvert_exporter": "python",
   "pygments_lexer": "ipython3",
   "version": "3.6.9"
  }
 },
 "nbformat": 4,
 "nbformat_minor": 4
}
