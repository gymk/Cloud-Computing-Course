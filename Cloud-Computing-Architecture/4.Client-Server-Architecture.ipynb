{
 "cells": [
  {
   "cell_type": "markdown",
   "metadata": {},
   "source": [
    "# Client Server Architecture\n",
    "\n",
    "Source: [Wikipedia](https://en.wikipedia.org/wiki/Client%E2%80%93server_model#/media/File:Client-server-model.svg)\n",
    "\n",
    "![Client_Server_Model](images/Client_Server_Model.jpg)\n",
    "\n",
    "- There is a _server_ which serves several clients\n",
    "    - Always waiting for the client to connect to\n",
    "- _Client_ will connect to the server, which utilizes the programme running in Server\n",
    "- Both _Client_ and _Server_ are tightly coupled (architecture)\n",
    "- Example\n",
    "    - FTP Client/Server\n",
    "    - Telenet Client/Server\n",
    "    - HTTP Daemon/ HTTP Client"
   ]
  },
  {
   "cell_type": "markdown",
   "metadata": {},
   "source": [
    "## Server Types\n",
    "\n",
    "### Concurrent Server\n",
    "\n",
    "- Concurrently serving multiple client(s) at a time\n",
    "\n",
    "### Iterative Server\n",
    "\n",
    "- Serving client(s) one by one in the order it is connected to the server"
   ]
  },
  {
   "cell_type": "markdown",
   "metadata": {},
   "source": [
    "## Characteristics of Client Server Architecture\n",
    "\n",
    "- Consists of one or more __*load balanced servers*__ servicing requests sent by the clients\n",
    "- Clients and Servers exchange message in __*request-response*__ fashion\n",
    "- Client is often __*a thin client*__ or a machine with low computational capabilities\n",
    "- Server could be a load balanced __*cluster or a stand alone machine*__"
   ]
  },
  {
   "cell_type": "markdown",
   "metadata": {},
   "source": [
    "## Layers of Client Server Architecture\n",
    "\n",
    "- Client-Server Architecture is a __*3-tier architecture*__\n",
    "    - Presentation Layer (at the top)\n",
    "    - Logical Layer\n",
    "    - Data Layer (at the bottom)"
   ]
  },
  {
   "cell_type": "markdown",
   "metadata": {},
   "source": [
    "## Client Server Model vs Cloud Model"
   ]
  },
  {
   "cell_type": "markdown",
   "metadata": {},
   "source": [
    "| Client Server Model                                        | Cloud Computing Model                                                       |\n",
    "|------------------------------------------------------------|-----------------------------------------------------------------------------|\n",
    "| Simple service model where server services client requests | Variety of complex service models, such as IaaS, PaaS, SaaS can be provided |\n",
    "| May/may not be load balanced                               | Load balanced                                                               |\n",
    "| Scalable to some extent in a cluster environment           | Theoretically infinitely scalable                                           |\n",
    "| No concept of Virtualization                               | Virtualization is the core concept                                          |"
   ]
  },
  {
   "cell_type": "code",
   "execution_count": null,
   "metadata": {},
   "outputs": [],
   "source": []
  }
 ],
 "metadata": {
  "kernelspec": {
   "display_name": "Python 3",
   "language": "python",
   "name": "python3"
  },
  "language_info": {
   "codemirror_mode": {
    "name": "ipython",
    "version": 3
   },
   "file_extension": ".py",
   "mimetype": "text/x-python",
   "name": "python",
   "nbconvert_exporter": "python",
   "pygments_lexer": "ipython3",
   "version": "3.6.9"
  }
 },
 "nbformat": 4,
 "nbformat_minor": 2
}
