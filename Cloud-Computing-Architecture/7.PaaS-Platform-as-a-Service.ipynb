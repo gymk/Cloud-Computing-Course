{
 "cells": [
  {
   "cell_type": "markdown",
   "metadata": {},
   "source": [
    "# Platform as a Service - PaaS\n",
    "\n",
    "Source: [UNDERSTANDING THE CLOUD COMPUTING STACK:SaaS, PaaS, IaaS](http://www.diversity.net.nz/wp-content/uploads/2011/03/Understanding-the-Cloud-Computing-Stack.pdf)"
   ]
  },
  {
   "cell_type": "markdown",
   "metadata": {},
   "source": [
    "- Platform as a Service (PaaS) __*brings the benefits*__ that SaaS bought for application, but over __*to the software development world*__.\n",
    "- PaaS can be defined as a computing platform that allows the creation of web applications quickly and easily and without the complexity of buying and maintaining the software and infrastructure underneath it\n",
    "- PaaS is anlogous to SaaS except that, rather than being software delivered over the web, it is a __*platform for the creation of software, delivered over the web*__\n",
    "- Example\n",
    "    - Web based UI to create Web Pages"
   ]
  },
  {
   "cell_type": "markdown",
   "metadata": {},
   "source": [
    "## Characteristics of PaaS"
   ]
  },
  {
   "cell_type": "markdown",
   "metadata": {},
   "source": [
    "- Sercvices to develop, test, deploy, host and maintain applications in the same integrated development environment\n",
    "- Web based user interface creation tools help to create, modify, test and deploy different UI scenarios\n",
    "- Multi-tenant architecture where multiple concurrent users utilize the same development application\n",
    "- Built in scalability of deployed software including, load balancing and failover\n",
    "- Integration with web services and databases via common standards\n",
    "- Support for development team collaboration - some PaaS solutions include project planning and communication tools\n",
    "- Tools to handle billing and subscription management"
   ]
  },
  {
   "cell_type": "markdown",
   "metadata": {},
   "source": [
    "## Scenarios where PaaS is usefull"
   ]
  },
  {
   "cell_type": "markdown",
   "metadata": {},
   "source": [
    "- PaaS is especially useful in any situation where multiple developers will be working on a development project or where other external parties need to interact with the development process\n",
    "- Paas is useful where developers wish to autoamte testing and deployment services\n",
    "- Popularity of agile software development, a group of software development methodologies based on iterative and incremental development, will also increase the uptake of PaaS as it eases the difficulties around rapid development and iteration of software\n",
    "- PaaS Examples\n",
    "    - Microsoft Azure\n",
    "    - Google App Engline"
   ]
  },
  {
   "cell_type": "markdown",
   "metadata": {},
   "source": [
    "## Scenarios where PaaS is not ideal"
   ]
  },
  {
   "cell_type": "markdown",
   "metadata": {},
   "source": [
    "- Where the application needs to be highly portable in terms of where it is hosted\n",
    "- Where proprietary languages or approaches would impact on the development process\n",
    "- Where a proprietary language would hinder later moves to another provider - concerns are raised about vendor lock in\n",
    "- Where application performance requires customization of the underlying hardware and software"
   ]
  },
  {
   "cell_type": "code",
   "execution_count": null,
   "metadata": {},
   "outputs": [],
   "source": []
  }
 ],
 "metadata": {
  "kernelspec": {
   "display_name": "Python 3",
   "language": "python",
   "name": "python3"
  },
  "language_info": {
   "codemirror_mode": {
    "name": "ipython",
    "version": 3
   },
   "file_extension": ".py",
   "mimetype": "text/x-python",
   "name": "python",
   "nbconvert_exporter": "python",
   "pygments_lexer": "ipython3",
   "version": "3.6.9"
  }
 },
 "nbformat": 4,
 "nbformat_minor": 2
}
