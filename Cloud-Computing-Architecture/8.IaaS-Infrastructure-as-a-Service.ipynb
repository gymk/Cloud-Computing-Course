{
 "cells": [
  {
   "cell_type": "markdown",
   "metadata": {},
   "source": [
    "# Infrastructure as a Service - IaaS\n",
    "\n",
    "Source: [UNDERSTANDING THE CLOUD COMPUTING STACK:SaaS, PaaS, IaaS](http://www.diversity.net.nz/wp-content/uploads/2011/03/Understanding-the-Cloud-Computing-Stack.pdf)"
   ]
  },
  {
   "cell_type": "markdown",
   "metadata": {},
   "source": [
    "- Infrastructureas a Service (IaaS) is a __*way of delivering Cloud Computing infrastructure - servers, storage, network and operating systems -as an on-demand service*__\n",
    "- Rather than purchasing servers, software, datacenter space or network equipment, clients instead buy those resources as a fully outsourced service on demand"
   ]
  },
  {
   "cell_type": "markdown",
   "metadata": {},
   "source": [
    "## Characteristics of IaaS"
   ]
  },
  {
   "cell_type": "markdown",
   "metadata": {},
   "source": [
    "- Resources are distributed as a service\n",
    "- Allows for dynamic scaling\n",
    "- Has a variable cost, utility pricing model\n",
    "- Generally includes multiple users on a single piece of hardware"
   ]
  },
  {
   "cell_type": "markdown",
   "metadata": {},
   "source": [
    "## Scenarios where IaaS makes sense"
   ]
  },
  {
   "cell_type": "markdown",
   "metadata": {},
   "source": [
    "- Where demand is very volatile - any time there are significant spikes and troughs in terms of demand on the infrastructure\n",
    "- For new organizations without the capital to invest in hardware\n",
    "- Where the organization is growing rapidly and scaling hardware would be problematic\n",
    "- Where there is pressure on the organization to limit capital expenditure and to move to operating expenditure\n",
    "- For specific line of business, trial or temporary infrastructural needs"
   ]
  },
  {
   "cell_type": "markdown",
   "metadata": {},
   "source": [
    "## Scenarios where IaaS may not be best optioin"
   ]
  },
  {
   "cell_type": "markdown",
   "metadata": {},
   "source": [
    "- Where regulatory compliance makes the offshoring or outsourcing of data storage and processing difficult\n",
    "- Where the highest levels of performance are required, and on-premise or dedicated hosted infrastructure has the capacity to meet the organization's needs"
   ]
  },
  {
   "cell_type": "code",
   "execution_count": null,
   "metadata": {},
   "outputs": [],
   "source": []
  }
 ],
 "metadata": {
  "kernelspec": {
   "display_name": "Python 3",
   "language": "python",
   "name": "python3"
  },
  "language_info": {
   "codemirror_mode": {
    "name": "ipython",
    "version": 3
   },
   "file_extension": ".py",
   "mimetype": "text/x-python",
   "name": "python",
   "nbconvert_exporter": "python",
   "pygments_lexer": "ipython3",
   "version": "3.6.9"
  }
 },
 "nbformat": 4,
 "nbformat_minor": 2
}
