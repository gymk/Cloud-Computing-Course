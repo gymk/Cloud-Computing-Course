{
 "cells": [
  {
   "cell_type": "markdown",
   "metadata": {},
   "source": [
    "# Cloud Computing Architecture - XaaS\n",
    "\n",
    "![Cloud_Computing_Architecture_XaaS](images/Cloud_Computing_Architecture_XaaS.jpg)"
   ]
  },
  {
   "cell_type": "markdown",
   "metadata": {},
   "source": [
    "## XaaS Stack Views: Customer View vs Provider View\n",
    "\n",
    "![XaaS_Stack_Views_CustomerView_vs_ProviderView](images/XaaS_Stack_Views_CustomerView_vs_ProviderView.jpg)"
   ]
  },
  {
   "cell_type": "markdown",
   "metadata": {},
   "source": [
    "## Microsoft Azure vs Amazon EC2\n",
    "\n",
    "![Cloud_Reference_Architectures](images/Cloud_Reference_Architectures.jpg)"
   ]
  },
  {
   "cell_type": "markdown",
   "metadata": {},
   "source": [
    "## Architecture fo Elasticity\n",
    "\n",
    "![Architecture_For_Elasticity](images/Architecture_For_Elasticity.jpg)"
   ]
  },
  {
   "cell_type": "markdown",
   "metadata": {},
   "source": [
    "## Service Models (XaaS)\n",
    "\n",
    "- Combination of Service-Oriented Infrastructure (SOI) and Clound Computing relaizes to XaaS\n",
    "- X as a Service (XaaS) is a generalization for cloud-related services\n",
    "- XaaS stands for \"Anything as a Service\" or 'Everything as a Service'\n",
    "- XaaS refers to an increasing number of services that are delivered over the Internet rather than provided locally or on-site\n",
    "- XaaS is the essence of Cloud Computing\n",
    "\n",
    "![Service_Models_XaaS](images/Service_Models_XaaS.jpg)"
   ]
  },
  {
   "cell_type": "markdown",
   "metadata": {},
   "source": [
    "## Cloud Services Delivery Model\n",
    "\n",
    "Source: [Cloud Security and Privacy: An Enterprise Perspective on Risks and Compliance (Theory in Practice) by Tim Mather  (Author), Subra Kumaraswamy  (Author), Shahed Latif (Author)](https://www.researchgate.net/publication/252064261_Cloud_Security_and_Privacy_An_Enterprise_Perspective_on_Risks_andCompliance/link/5a5419a2aca2725638cb5cba/download)\n",
    "\n",
    "![Cloud_Services_Delivery_Model](images/Cloud_Services_Delivery_Model.jpg)"
   ]
  },
  {
   "cell_type": "markdown",
   "metadata": {},
   "source": [
    "### Business Process as a Service (BPaaS)\n",
    "\n",
    "- A Business Workflow is given as a Service\n",
    "- Horizontal or Vertical business processes provided on a subscription basis to companies or industries\n",
    "- It may not be delivering only one application instead different processes orchestrated between them\n",
    "    - Example\n",
    "        - Human Resource Management workflow process\n",
    "            - Recruitment, Salary, Insurance, PF, reimbursement etc.,...\n",
    "        - Medical/ Hospital business workflow process\n",
    "            - Billing, Appointments, Medical Record maintenance, etc.,...\n",
    "        - ![BPaaS_Example_Orchtestration_Flow](images/BPaaS_Example_Orchtestration_Flow.jpg)"
   ]
  },
  {
   "cell_type": "markdown",
   "metadata": {},
   "source": [
    "## Examples of XaaS Service Models"
   ]
  },
  {
   "cell_type": "markdown",
   "metadata": {},
   "source": [
    "### Most common examples of XaaS are\n",
    "\n",
    "- Software as a Service (SaaS)\n",
    "- Platform as a Service (PaaS)\n",
    "- Infrastructure as a Service (IaaS)"
   ]
  },
  {
   "cell_type": "markdown",
   "metadata": {},
   "source": [
    "### Other examples of XaaS\n",
    "\n",
    "- Business Process as a Service (BPaaS)\n",
    "- Storage as a Service (another SaaS)\n",
    "- Security as a Service (SECaaS)\n",
    "- Database as a Service (DaaS)\n",
    "- Monitoring/Management as a Service (MaaS)\n",
    "- Communications, Content and Computing as a Service (CaaS)\n",
    "- Identity as a Service (IDaaS)\n",
    "- Backup as a Service (BaaS)\n",
    "- Desktop as a Service (DaaS)"
   ]
  },
  {
   "cell_type": "markdown",
   "metadata": {},
   "source": [
    "## Requirements of CSP (Cloud Service Provider)\n",
    "\n",
    "- CSP is looking for (so that it can hold its market position)\n",
    "    - Increase Productivity\n",
    "    - Increase End User satisfaction\n",
    "    - Increase Innovation\n",
    "    - Increase Agility"
   ]
  },
  {
   "cell_type": "markdown",
   "metadata": {},
   "source": [
    "## Requirements of Cloud Service\n",
    "\n",
    "Source: [UNDERSTANDING THE CLOUD COMPUTING STACK:SaaS, PaaS, IaaS](http://www.diversity.net.nz/wp-content/uploads/2011/03/Understanding-the-Cloud-Computing-Stack.pdf)\n",
    "\n",
    "- Broad Network Access (Cloud) $+$ Resource Pooling (Cloud) $+$ Business-Driven Infrastructure on-demand (SOI) + Service-Oriented (SOI) = $XaaS$\n",
    "- XaaS fulfils all the 4 demands!\n",
    "\n",
    "![Cloud_Computing_Stack](images/Cloud_Computing_Stack.jpg)"
   ]
  },
  {
   "cell_type": "code",
   "execution_count": null,
   "metadata": {},
   "outputs": [],
   "source": []
  }
 ],
 "metadata": {
  "kernelspec": {
   "display_name": "Python 3",
   "language": "python",
   "name": "python3"
  },
  "language_info": {
   "codemirror_mode": {
    "name": "ipython",
    "version": 3
   },
   "file_extension": ".py",
   "mimetype": "text/x-python",
   "name": "python",
   "nbconvert_exporter": "python",
   "pygments_lexer": "ipython3",
   "version": "3.6.9"
  }
 },
 "nbformat": 4,
 "nbformat_minor": 2
}
