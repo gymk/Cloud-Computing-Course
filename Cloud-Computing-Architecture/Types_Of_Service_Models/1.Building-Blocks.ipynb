{
 "cells": [
  {
   "cell_type": "markdown",
   "metadata": {},
   "source": [
    "# Cloud Computing Architecture"
   ]
  },
  {
   "cell_type": "markdown",
   "metadata": {},
   "source": [
    "## High Level Architectural Approach\n",
    "\n",
    "Source: https://resources.sei.cmu.edu/asset_files/Presentation/2010_017_001_23337.pdf\n",
    "\n",
    "![Context-High-Level-Architectural-Approach](images/Context_High_Level_Architectural_Approach.jpg)"
   ]
  },
  {
   "cell_type": "markdown",
   "metadata": {},
   "source": [
    "## Major Building Blocks of Cloud Computing"
   ]
  },
  {
   "cell_type": "markdown",
   "metadata": {},
   "source": [
    "### Technical Architecture\n",
    "\n",
    "- Structuring according to XaaS stack\n",
    "- Adopting Cloud Computing paradigms\n",
    "- Structuring cloud services and cloud components\n",
    "- Showing relationships and external endpoints\n",
    "- Middleware and communication\n",
    "- Management and Security"
   ]
  },
  {
   "cell_type": "markdown",
   "metadata": {},
   "source": [
    "## Deployment Operation Architecture\n",
    "\n",
    "- Geo-location check (Legal issue, export control)\n",
    "- Operation and Monitoring"
   ]
  },
  {
   "cell_type": "code",
   "execution_count": null,
   "metadata": {},
   "outputs": [],
   "source": []
  }
 ],
 "metadata": {
  "kernelspec": {
   "display_name": "Python 3",
   "language": "python",
   "name": "python3"
  },
  "language_info": {
   "codemirror_mode": {
    "name": "ipython",
    "version": 3
   },
   "file_extension": ".py",
   "mimetype": "text/x-python",
   "name": "python",
   "nbconvert_exporter": "python",
   "pygments_lexer": "ipython3",
   "version": "3.6.9"
  }
 },
 "nbformat": 4,
 "nbformat_minor": 2
}
