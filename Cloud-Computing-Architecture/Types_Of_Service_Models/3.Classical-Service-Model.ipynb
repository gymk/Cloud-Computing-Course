{
 "cells": [
  {
   "cell_type": "markdown",
   "metadata": {},
   "source": [
    "# Classical Service Model\n",
    "\n",
    "Source: [XAAS SERVICES AS MODERN INFRASTRUCTURE OF E-GOVERNMENT IN THE REPUBLIC OF CROATIA](https://www.researchgate.net/publication/229429833_XaaS_Services_as_Modern_Infrastructure_of_e-Goverment_in_the_Republic_of_Croatia)\n",
    "\n",
    "![XaaS_Service_Models](images/XaaS_Service_Models.jpg)"
   ]
  },
  {
   "cell_type": "markdown",
   "metadata": {},
   "source": [
    "- All the Layers (HW, Operating System, Development Tools, Applications) managed by users\n",
    "- Initial IT budget and resources\n",
    "- Users bears the costs of the hardware, maintenance and technology\n",
    "- Each system is designed and funded for a specific business activity: custom built-to-order\n",
    "- Systems are deployed as a vectical stack of \"layers\" whicha re tightlyt coupled, so no single part can be easily replaced or changed\n",
    "- Prevalent or manual operations for provisioning, management\n",
    "- Result: Legacy IT"
   ]
  },
  {
   "cell_type": "markdown",
   "metadata": {},
   "source": [
    "## Key impact of Cloud Computing for IT function: From Legacy IT to Evergreen IT\n",
    "\n",
    "![Key_impact_of_Cloud_Computing_for_IT_function_From_Legacy_IT_to_Evergreen_IT](images/Key_impact_of_Cloud_Computing_for_IT_function_From_Legacy_IT_to_Evergreen_IT.jpg)"
   ]
  },
  {
   "cell_type": "markdown",
   "metadata": {},
   "source": [
    "## Classical Model vs XaaS\n",
    "\n",
    "![Classical_Model_vs_XaaS](images/Classical_Model_vs_XaaS.jpg)"
   ]
  }
 ],
 "metadata": {
  "kernelspec": {
   "display_name": "Python 3",
   "language": "python",
   "name": "python3"
  },
  "language_info": {
   "codemirror_mode": {
    "name": "ipython",
    "version": 3
   },
   "file_extension": ".py",
   "mimetype": "text/x-python",
   "name": "python",
   "nbconvert_exporter": "python",
   "pygments_lexer": "ipython3",
   "version": "3.6.9"
  }
 },
 "nbformat": 4,
 "nbformat_minor": 2
}
