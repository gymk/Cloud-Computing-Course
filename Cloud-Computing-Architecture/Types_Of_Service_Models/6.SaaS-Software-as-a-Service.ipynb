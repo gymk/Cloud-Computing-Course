{
 "cells": [
  {
   "cell_type": "markdown",
   "metadata": {},
   "source": [
    "# Software as a Service - SaaS\n",
    "\n",
    "Source: [UNDERSTANDING THE CLOUD COMPUTING STACK:SaaS, PaaS, IaaS](http://www.diversity.net.nz/wp-content/uploads/2011/03/Understanding-the-Cloud-Computing-Stack.pdf)"
   ]
  },
  {
   "cell_type": "markdown",
   "metadata": {},
   "source": [
    "- SaaS is defined as software that is deployed over the Internet\n",
    "- With SaaS, a provider licenses an application to customer either\n",
    "    - As a __*Service on Demand*__, through a subscription, in a __*pay-as-you-go*__ model\n",
    "    - Or (Increasingly) at __*no charge*__ when there is __*oppurtunity to generate revenue from*__ streams other than the user, __*such as advertisements or user list sales*__."
   ]
  },
  {
   "cell_type": "markdown",
   "metadata": {},
   "source": [
    "## SaaS Characterisitcs"
   ]
  },
  {
   "cell_type": "markdown",
   "metadata": {},
   "source": [
    "- Web Access to commercial software\n",
    "- Software is managed from central location\n",
    "- Software is delivered in a _'one to many'_ model\n",
    "- Users not required to handle software upgrades and patches\n",
    "- Application Programming Interfaces (API) allow for integration between different pieces of software"
   ]
  },
  {
   "cell_type": "markdown",
   "metadata": {},
   "source": [
    "## Applications where SaaS may be useful"
   ]
  },
  {
   "cell_type": "markdown",
   "metadata": {},
   "source": [
    "- Applications where there is significant interplay between organization and outside word\n",
    "    - E.g., Email newsletter campaign software\n",
    "- Applications that have need for web or mobile access\n",
    "    - E.g., Mobile sales management software\n",
    "- Software that is only to be used for a short term needs\n",
    "- Software where demand spikes significantly\n",
    "    - E.g., Tax/Billing software\n",
    "- Examples of SaaS\n",
    "    - Sales Force Customer Relationship Management (CRM) software"
   ]
  },
  {
   "cell_type": "markdown",
   "metadata": {},
   "source": [
    "## Applications where SaaS may not be the best option"
   ]
  },
  {
   "cell_type": "markdown",
   "metadata": {},
   "source": [
    "- Applications where extremely fast processing of real time data is needed\n",
    "- Applications where legislation or other regulation does not permit data being hosted externally\n",
    "- Applications where an existing on-premise solution fulfills all of the organization's needs"
   ]
  },
  {
   "cell_type": "code",
   "execution_count": null,
   "metadata": {},
   "outputs": [],
   "source": []
  }
 ],
 "metadata": {
  "kernelspec": {
   "display_name": "Python 3",
   "language": "python",
   "name": "python3"
  },
  "language_info": {
   "codemirror_mode": {
    "name": "ipython",
    "version": 3
   },
   "file_extension": ".py",
   "mimetype": "text/x-python",
   "name": "python",
   "nbconvert_exporter": "python",
   "pygments_lexer": "ipython3",
   "version": "3.6.9"
  }
 },
 "nbformat": 4,
 "nbformat_minor": 2
}
