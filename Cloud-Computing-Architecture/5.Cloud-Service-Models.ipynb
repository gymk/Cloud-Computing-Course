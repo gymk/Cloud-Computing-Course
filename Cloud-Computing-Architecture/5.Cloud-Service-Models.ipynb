{
 "cells": [
  {
   "cell_type": "markdown",
   "metadata": {},
   "source": [
    "# Cloud Service Models"
   ]
  },
  {
   "cell_type": "markdown",
   "metadata": {},
   "source": [
    "## Cloud Services"
   ]
  },
  {
   "cell_type": "markdown",
   "metadata": {},
   "source": [
    "Source: [Service-Oriented Cloud Computing Infrastructure](http://www.opengroup.org/soa/source-book/socci/p4.htm)\n",
    "\n",
    "![SOI_and_SOA_RA_Layer_Mapping](images/SOI_and_SOA_RA_Layer_Mapping_2.jpg)"
   ]
  },
  {
   "cell_type": "markdown",
   "metadata": {},
   "source": [
    "## Cloud Service Models\n",
    "\n",
    "![Cloud_Service_Models](images/Cloud_Service_Models.jpg)"
   ]
  },
  {
   "cell_type": "markdown",
   "metadata": {},
   "source": [
    "## Simplified description of Cloud Service Models\n",
    "\n",
    "Source: [UNDERSTANDING THE CLOUD COMPUTING STACK:SaaS, PaaS, IaaS](http://www.diversity.net.nz/wp-content/uploads/2011/03/Understanding-the-Cloud-Computing-Stack.pdf)\n",
    "\n",
    "- __SaaS__ applications are designed for end users and are delivered over the web\n",
    "- __PaaS__ is the set of tools and services designed to make coding and deploying applications quickly and efficiently\n",
    "- __IaaS__ is the hardware and software that powers it all - servers, storage, networks, operating systems"
   ]
  },
  {
   "cell_type": "markdown",
   "metadata": {},
   "source": [
    "### Transportation Analogy\n",
    "\n",
    "- By itself, infrastructure isn't useful - it just sits there waiting for someone to make it productive in solving a particular problem.\n",
    "    - Imagine the Interstate transportation system in the U.S.\n",
    "    - Even with all these roads built, they wouldn't be useful without cars and trucks to transport people and goods.\n",
    "    - In this analogy, the __*roads are the infrastructure*__ and the __*cars and trucks are the platform*__ that sits pon top of the infrastructure and transports the people and goods.\n",
    "    - These __*goods and people*__ might be considered the __*software and information in the technical realm*__"
   ]
  },
  {
   "cell_type": "code",
   "execution_count": null,
   "metadata": {},
   "outputs": [],
   "source": []
  }
 ],
 "metadata": {
  "kernelspec": {
   "display_name": "Python 3",
   "language": "python",
   "name": "python3"
  },
  "language_info": {
   "codemirror_mode": {
    "name": "ipython",
    "version": 3
   },
   "file_extension": ".py",
   "mimetype": "text/x-python",
   "name": "python",
   "nbconvert_exporter": "python",
   "pygments_lexer": "ipython3",
   "version": "3.6.9"
  }
 },
 "nbformat": 4,
 "nbformat_minor": 2
}
