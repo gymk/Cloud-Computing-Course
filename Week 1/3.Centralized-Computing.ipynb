{
 "cells": [
  {
   "cell_type": "markdown",
   "metadata": {},
   "source": [
    "# Centralized Computing\n",
    "\n",
    "- It uses Mainframe\n",
    "    - All operations are performed in mainframe\n",
    "    - Terminals are used to just access the mainframe\n",
    "        - Jobs are submitted to the mainframe by terminal(s)\n",
    "        - Results are viewed in terminal by user\n",
    "        - Nothing executed in terminal\n",
    "- Logically it is a *Single-Processor-Computing/ Uniprocessor Computing*\n",
    "\n",
    "![](files/Centralized_Computing.JPG)\n"
   ]
  },
  {
   "cell_type": "code",
   "execution_count": null,
   "metadata": {},
   "outputs": [],
   "source": []
  }
 ],
 "metadata": {
  "kernelspec": {
   "display_name": "Python 3",
   "language": "python",
   "name": "python3"
  },
  "language_info": {
   "codemirror_mode": {
    "name": "ipython",
    "version": 3
   },
   "file_extension": ".py",
   "mimetype": "text/x-python",
   "name": "python",
   "nbconvert_exporter": "python",
   "pygments_lexer": "ipython3",
   "version": "3.6.9"
  }
 },
 "nbformat": 4,
 "nbformat_minor": 2
}
